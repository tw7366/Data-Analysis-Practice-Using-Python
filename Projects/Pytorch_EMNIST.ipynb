{
 "cells": [
  {
   "cell_type": "code",
   "execution_count": 1,
   "metadata": {},
   "outputs": [],
   "source": [
    "import torch\n",
    "import torchvision\n",
    "from torchvision import transforms, datasets\n",
    "from torchvision.transforms import Normalize, ToTensor\n",
    "import torch.nn as nn  # neural network\n",
    "import torch.optim as optim  # optimization layer\n",
    "import torch.nn.functional as F  # activation functions\n",
    "import matplotlib.pyplot as plt\n",
    "import argparse"
   ]
  },
  {
   "cell_type": "code",
   "execution_count": 2,
   "metadata": {},
   "outputs": [
    {
     "ename": "NameError",
     "evalue": "name 'args' is not defined",
     "output_type": "error",
     "traceback": [
      "\u001b[1;31m---------------------------------------------------------------------------\u001b[0m",
      "\u001b[1;31mNameError\u001b[0m                                 Traceback (most recent call last)",
      "\u001b[1;32m<ipython-input-2-edcfa705d297>\u001b[0m in \u001b[0;36m<module>\u001b[1;34m\u001b[0m\n\u001b[0;32m     10\u001b[0m \u001b[1;33m\u001b[0m\u001b[0m\n\u001b[0;32m     11\u001b[0m \u001b[1;31m# load train and test as some other objects that can help on iterating over data\u001b[0m\u001b[1;33m\u001b[0m\u001b[1;33m\u001b[0m\u001b[1;33m\u001b[0m\u001b[0m\n\u001b[1;32m---> 12\u001b[1;33m \u001b[0mtrain_set\u001b[0m \u001b[1;33m=\u001b[0m \u001b[0mtorch\u001b[0m\u001b[1;33m.\u001b[0m\u001b[0mutils\u001b[0m\u001b[1;33m.\u001b[0m\u001b[0mdata\u001b[0m\u001b[1;33m.\u001b[0m\u001b[0mDataLoader\u001b[0m\u001b[1;33m(\u001b[0m\u001b[0mtrain\u001b[0m\u001b[1;33m,\u001b[0m \u001b[0mbatch_size\u001b[0m\u001b[1;33m=\u001b[0m\u001b[0margs\u001b[0m\u001b[1;33m.\u001b[0m\u001b[0mtrain_batch\u001b[0m \u001b[1;33m,\u001b[0m \u001b[0mshuffle\u001b[0m\u001b[1;33m=\u001b[0m\u001b[1;32mTrue\u001b[0m\u001b[1;33m)\u001b[0m\u001b[1;33m\u001b[0m\u001b[1;33m\u001b[0m\u001b[0m\n\u001b[0m\u001b[0;32m     13\u001b[0m \u001b[0mtest_set\u001b[0m \u001b[1;33m=\u001b[0m \u001b[0mtorch\u001b[0m\u001b[1;33m.\u001b[0m\u001b[0mutils\u001b[0m\u001b[1;33m.\u001b[0m\u001b[0mdata\u001b[0m\u001b[1;33m.\u001b[0m\u001b[0mDataLoader\u001b[0m\u001b[1;33m(\u001b[0m\u001b[0mtest\u001b[0m\u001b[1;33m,\u001b[0m \u001b[0mbatch_size\u001b[0m\u001b[1;33m=\u001b[0m\u001b[0margs\u001b[0m\u001b[1;33m.\u001b[0m\u001b[0mtest_batch\u001b[0m\u001b[1;33m,\u001b[0m \u001b[0mshuffle\u001b[0m\u001b[1;33m=\u001b[0m\u001b[1;32mTrue\u001b[0m\u001b[1;33m)\u001b[0m\u001b[1;33m\u001b[0m\u001b[1;33m\u001b[0m\u001b[0m\n",
      "\u001b[1;31mNameError\u001b[0m: name 'args' is not defined"
     ]
    }
   ],
   "source": [
    "train = datasets.EMNIST(root=\"data\", split=\"byclass\",\n",
    "                        train=True, download=True,\n",
    "                        transform=transforms.Compose([ToTensor()])\n",
    "                       )\n",
    "test = datasets.EMNIST(root=\"data\", split=\"byclass\", \n",
    "                       train=False, download=True, \n",
    "                       transform=transforms.Compose([ToTensor()])\n",
    "                      )\n",
    "\n",
    "\n",
    "# load train and test as some other objects that can help on iterating over data \n",
    "train_set = torch.utils.data.DataLoader(train, batch_size=args.train_batch=256, shuffle=True)\n",
    "test_set = torch.utils.data.DataLoader(test, batch_size=args.test_batch=256, shuffle=True)"
   ]
  },
  {
   "cell_type": "code",
   "execution_count": null,
   "metadata": {},
   "outputs": [],
   "source": [
    "parser = argparse.ArgumentParser()\n",
    "args = parser.parse_args(\"\")\n",
    "\n",
    "#### Model Capacity ####\n",
    "args.model_code = 'model_2'\n",
    "args.in_channel = 1\n",
    "args.in_dim = 1  # input to a fc layer from the last conv layer\n",
    "args.out_dim = 62\n",
    "args.act = 'relu'\n",
    "\n",
    "#### Regularization ####\n",
    "args.dropout = 0.2\n",
    "args.use_bn = True\n",
    "args.use_xavier = True\n",
    "\n",
    "#### Optimization ####\n",
    "args.optim = 'adam'\n",
    "args.lr = 0.001  # learning rate\n",
    "args.epoch = 10\n",
    "args.train_batch = 256\n",
    "args.test_batch = 256\n",
    "\n",
    "print(args)"
   ]
  },
  {
   "cell_type": "code",
   "execution_count": null,
   "metadata": {},
   "outputs": [],
   "source": [
    "data_batches, labels = next(iter(train_set))\n",
    "print(data_batches.type())\n",
    "print(data_batches.shape)\n",
    "print(labels.type())\n",
    "print(labels.shape)"
   ]
  },
  {
   "cell_type": "code",
   "execution_count": null,
   "metadata": {},
   "outputs": [],
   "source": [
    "model_codes = {\n",
    "    'model_1': [16, 64, 'M', 128, 128],\n",
    "    'model_2': [16, 64, 'M', 128, 128, 'M', 256, 256],\n",
    "    'model_3': [64, 64, 'M', 128, 128, 'M', 256, 256, 'M', 512, 512]\n",
    "}"
   ]
  },
  {
   "cell_type": "code",
   "execution_count": null,
   "metadata": {},
   "outputs": [],
   "source": [
    "class CNN(nn.Module):\n",
    "    def __init__(self, model_code, in_channel, out_dim, act, use_bn, dropout):\n",
    "        super(CNN, self).__init__()\n",
    "        \n",
    "        if act == 'relu':\n",
    "            self.act = nn.ReLU()\n",
    "        elif act == 'sigmoid':\n",
    "            self.act = nn.Sigmoid()\n",
    "        elif act == 'leakyrelu':\n",
    "            self.act = nn.LeakyReLU()\n",
    "        else:\n",
    "            raise ValueError(\"Not a valid activation function\")\n",
    "            \n",
    "        \n",
    "        self.layers = self.make_layers(model_code, in_channels, use_bn)\n",
    "        self.dropout = nn.Dropout(dropout)\n",
    "        self.classifier = nn.Sequential(nn.Linear(x.shape[0], 256),\n",
    "                                        self.act,\n",
    "                                        nn.Linear(256, out_dim)\n",
    "                                       )\n",
    "\n",
    "    def forward(self, x):\n",
    "        x = self.layers(x)\n",
    "        x = self.dropout(x)\n",
    "        x = torch.flatten(x, 1)\n",
    "        x = self.classifier(x)\n",
    "        # skipped softmax to use cross entropy loss\n",
    "        return x\n",
    "    \n",
    "    def make_layers(self, model_code, in_channels, use_bn):\n",
    "        layers = []\n",
    "        for x in model_codes[model_code]:\n",
    "            if x == \"M\":\n",
    "                layers += [nn.MaxPool2d(kernel_size=2, stride=2)]\n",
    "            else:\n",
    "                layers += [nn.Conv2d(in_channels=in_channels,\n",
    "                                    out_channels=x,\n",
    "                                    kernel_size=3,\n",
    "                                    stride=1,\n",
    "                                    padding=1)]\n",
    "                if use_bn:\n",
    "                    layers += [nn.BatchNorm2d(x)]\n",
    "                layers += [self.act]\n",
    "                in_channels = x\n",
    "        return nn.Sequential(*layers)"
   ]
  },
  {
   "cell_type": "markdown",
   "metadata": {},
   "source": [
    "# Train, Validate, Test"
   ]
  },
  {
   "cell_type": "code",
   "execution_count": null,
   "metadata": {},
   "outputs": [],
   "source": [
    "net = CNN(args.model_code, args.in_channel, args.out_dim, args.act, args.use_bn, args.dropout)\n",
    "optimizer = optim.Adam(net.parameters(), lr=args.lr) # learning rate\n",
    "loss_function = nn.CrossEntropyLoss()"
   ]
  },
  {
   "cell_type": "code",
   "execution_count": null,
   "metadata": {},
   "outputs": [],
   "source": [
    "def train(net)"
   ]
  },
  {
   "cell_type": "code",
   "execution_count": null,
   "metadata": {},
   "outputs": [],
   "source": [
    "def dimension_check():\n",
    "    net = CNN('model_1', 1, 62, act=args.act, use_bn=args.use_bn, dropout=args.dropout)\n",
    "    x = torch.randn(2, 1, 28, 28)\n",
    "    y = net(x)\n",
    "    print(y.size())\n",
    "\n",
    "dimension_check()"
   ]
  },
  {
   "cell_type": "code",
   "execution_count": null,
   "metadata": {},
   "outputs": [],
   "source": [
    "class Net(nn.Module):\n",
    "    def __init__(self):\n",
    "        super(Net, self).__init__()\n",
    "        # 3 convolutional layers\n",
    "        self.cv1 = nn.Conv2d(in_channels=1,out_channels=16,kernel_size=5, stride=1)  # input: 1 if grayscale, 3 if RGB\n",
    "        self.cv2 = nn.Conv2d(16, 64, 5)\n",
    "        self.cv3 = nn.Conv2d(64, 128, 5)\n",
    "        self.dropout1 = nn.Dropout(0.2)\n",
    "        \n",
    "        # Dense layer - (fully connected)\n",
    "        self.fc1 = nn.Linear(in_features=128*3*3, out_features=256)\n",
    "        self.fc2 = nn.Linear(in_features=256, out_features=128)\n",
    "        self.out = nn.Linear(in_features=128, out_features=47)\n",
    "        \n",
    "    def forward(self, x):\n",
    "        '''\n",
    "        forward method explicitly defines the network's transformation.\n",
    "        forward method maps an input tensor to a prediction output tensor\n",
    "        '''\n",
    "        # hidden convolutional layers\n",
    "        x = F.relu(self.cv1(x))\n",
    "        x = F.relu(self.cv2(x))\n",
    "        x = F.max_pool2d(x, kernel_size=2, stride=2)\n",
    "        x = F.relu(self.cv3(x))\n",
    "        x = F.max_pool2d(x, kernel_size=2, stride=2)\n",
    "        \n",
    "        x = self.dropout1(x)\n",
    "        \n",
    "        # hidden linear layers\n",
    "        x = torch.flatten(x, 1)\n",
    "        #x = x.view(-1, 128*3*3)\n",
    "        x = F.relu(self.fc1(x))\n",
    "        x = F.relu(self.fc2(x))\n",
    "        \n",
    "        # output layer\n",
    "        x = self.out(x)\n",
    "        x = F.softmax(x, dim=1)\n",
    "        \n",
    "        return x\n",
    "        "
   ]
  },
  {
   "cell_type": "markdown",
   "metadata": {},
   "source": [
    "How to find the initial input size of dense layer\n",
    "window size (kernel)^2 x output channel of the last channel (128)\n",
    "\n",
    "To find window of the last convolutional layer\n",
    "(input size (28 x 28) - kernel size - 2*padding)/stride + 1\n",
    "* first layer: (28-5-0)/1 + 1 = 24\n",
    "* second layer: (24-5-0)/1 + 1 = 20 -> after maxpooing -> 10\n",
    "* third layer: (10-5-0)/1 + 1 = 6 -> after maxpooling -> 3"
   ]
  },
  {
   "cell_type": "code",
   "execution_count": null,
   "metadata": {},
   "outputs": [],
   "source": [
    "prediction = network(images)\n",
    "print(prediction.shape)\n",
    "print(prediction)"
   ]
  },
  {
   "cell_type": "code",
   "execution_count": null,
   "metadata": {},
   "outputs": [],
   "source": [
    "prediction.argmax(dim=1)"
   ]
  }
 ],
 "metadata": {
  "kernelspec": {
   "display_name": "Python 3",
   "language": "python",
   "name": "python3"
  },
  "language_info": {
   "codemirror_mode": {
    "name": "ipython",
    "version": 3
   },
   "file_extension": ".py",
   "mimetype": "text/x-python",
   "name": "python",
   "nbconvert_exporter": "python",
   "pygments_lexer": "ipython3",
   "version": "3.8.3"
  }
 },
 "nbformat": 4,
 "nbformat_minor": 4
}
